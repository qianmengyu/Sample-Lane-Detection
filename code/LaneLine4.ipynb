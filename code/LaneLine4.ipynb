{
 "cells": [
  {
   "cell_type": "markdown",
   "metadata": {},
   "source": [
    "# 车道线识别\n",
    "\n",
    "# 版本：4\n",
    "# 带区域选择的车道线检测：梯形区域+Sobel阈值分割"
   ]
  },
  {
   "cell_type": "markdown",
   "metadata": {},
   "source": [
    "# 库函数"
   ]
  },
  {
   "cell_type": "code",
   "execution_count": 1,
   "metadata": {},
   "outputs": [],
   "source": [
    "import cv2\n",
    "import pandas as pd\n",
    "import numpy as np\n",
    "import matplotlib.pyplot as plt"
   ]
  },
  {
   "cell_type": "markdown",
   "metadata": {},
   "source": [
    "# 带区域选择的阈值分割"
   ]
  },
  {
   "cell_type": "code",
   "execution_count": 9,
   "metadata": {},
   "outputs": [
    {
     "data": {
      "text/plain": [
       "-1"
      ]
     },
     "execution_count": 9,
     "metadata": {},
     "output_type": "execute_result"
    }
   ],
   "source": [
    "# 观察图片三通道情况\n",
    "# 传入图片\n",
    "img = cv2.imread('../pics/img1_1.jpg', 1)\n",
    "# img = cv2.imread('D:/images/pics/img5_30.jpg', 1)\n",
    "\n",
    "cv2.imshow(\"image\", img[:,:,0])                  # 查看\n",
    "cv2.waitKey(0)\n",
    "\n",
    "cv2.imshow(\"image\", img[:,:,0])                  # 查看\n",
    "cv2.waitKey(0)\n",
    "\n",
    "cv2.imshow(\"image\", img[:,:,0])                  # 查看\n",
    "cv2.waitKey(0)"
   ]
  },
  {
   "cell_type": "code",
   "execution_count": 11,
   "metadata": {},
   "outputs": [
    {
     "data": {
      "text/plain": [
       "-1"
      ]
     },
     "execution_count": 11,
     "metadata": {},
     "output_type": "execute_result"
    }
   ],
   "source": [
    "# 单张图像处理：为了后面好改\n",
    "img = cv2.imread('../pics/img1_1.jpg', 1)              # 这里是彩色图像\n",
    "\n",
    "[ysize, xsize, channel] = img.shape             # (368, 640, 3)\n",
    "res = np.copy(img)                              # 以防后面要叠加，先复制\n",
    "resGray = cv2.cvtColor(img,cv2.COLOR_RGB2GRAY)  # 转为灰度图\n",
    "thresh = 10                                     # 要求Sobel梯度大于的值\n",
    "\n",
    "# 区域顶点\n",
    "left_bottom = [236, 368]\n",
    "right_bottom = [351, 368]\n",
    "left_top = [296, 240]\n",
    "right_top = [315,240]\n",
    "\n",
    "# 区域边界直线\n",
    "fit_left = np.polyfit((left_bottom[0], left_top[0]), (left_bottom[1], left_top[1]), 1)\n",
    "fit_right = np.polyfit((right_bottom[0], right_top[0]), (right_bottom[1], right_top[1]), 1)\n",
    "fit_bottom = np.polyfit((left_bottom[0], right_bottom[0]), (left_bottom[1], right_bottom[1]), 1)\n",
    "fit_top = np.polyfit((left_top[0], right_top[0]), (left_top[1], right_top[1]), 1)\n",
    "\n",
    "# Sobel算子\n",
    "cur = cv2.GaussianBlur(resGray, (3, 3), 1)\n",
    "resGray = cv2.Canny(cur, 50, 200)\n",
    "\n",
    "# 梯形区域Mask：截取梯形区域并要求对应\n",
    "XX, YY = np.meshgrid(np.arange(0, xsize), np.arange(0, ysize))\n",
    "region_thresholds = (YY > (XX * fit_left[0] + fit_left[1])) & \\\n",
    "                    (YY > (XX * fit_right[0] + fit_right[1])) & \\\n",
    "                    (YY < (XX * fit_bottom[0] + fit_bottom[1])) & \\\n",
    "                    (YY > (XX * fit_top[0] + fit_top[1])) & \\\n",
    "                    (resGray > thresh)\n",
    "\n",
    "# 矩形区域内Sobel > thresh的置[255, 255, 255]\n",
    "res[region_thresholds] = [255, 255, 255]\n",
    "\n",
    "cv2.imshow(\"image\", res)                  # 查看\n",
    "cv2.waitKey(0)"
   ]
  },
  {
   "cell_type": "code",
   "execution_count": null,
   "metadata": {},
   "outputs": [],
   "source": []
  },
  {
   "cell_type": "code",
   "execution_count": 12,
   "metadata": {},
   "outputs": [],
   "source": [
    "# 图片：每个视频37张\n",
    "file_path = '../pics/'\n",
    "save_path = '../save4/'                    # 存储到save4文件夹\n",
    "for i in range(37):\n",
    "    imgName = file_path + \"img1_\" + str(i)\n",
    "    imgPath = imgName + \".jpg\"\n",
    "    \n",
    "    img = cv2.imread(imgPath, 1)                    # 这里是RGB图像\n",
    "\n",
    "    [ysize, xsize, channel] = img.shape             # (368, 640, 3)\n",
    "    res = np.copy(img)                              # 以防后面要叠加，先复制\n",
    "    resGray = cv2.cvtColor(img,cv2.COLOR_RGB2GRAY)  # 转为灰度图\n",
    "    thresh = 10                                     # 要求Sobel梯度大于的值\n",
    "\n",
    "    # 区域顶点\n",
    "    left_bottom = [236, 368]\n",
    "    right_bottom = [351, 368]\n",
    "    left_top = [296, 240]\n",
    "    right_top = [315,240]\n",
    "\n",
    "    # 区域边界直线\n",
    "    fit_left = np.polyfit((left_bottom[0], left_top[0]), (left_bottom[1], left_top[1]), 1)\n",
    "    fit_right = np.polyfit((right_bottom[0], right_top[0]), (right_bottom[1], right_top[1]), 1)\n",
    "    fit_bottom = np.polyfit((left_bottom[0], right_bottom[0]), (left_bottom[1], right_bottom[1]), 1)\n",
    "    fit_top = np.polyfit((left_top[0], right_top[0]), (left_top[1], right_top[1]), 1)\n",
    "\n",
    "    # Sobel算子\n",
    "    cur = cv2.GaussianBlur(resGray, (3, 3), 1)\n",
    "    resGray = cv2.Canny(cur, 50, 200)\n",
    "\n",
    "    # 梯形区域Mask：截取梯形区域并要求对应\n",
    "    XX, YY = np.meshgrid(np.arange(0, xsize), np.arange(0, ysize))\n",
    "    region_thresholds = (YY > (XX * fit_left[0] + fit_left[1])) & \\\n",
    "                        (YY > (XX * fit_right[0] + fit_right[1])) & \\\n",
    "                        (YY < (XX * fit_bottom[0] + fit_bottom[1])) & \\\n",
    "                        (YY > (XX * fit_top[0] + fit_top[1])) & \\\n",
    "                        (resGray > thresh)\n",
    "\n",
    "    # 矩形区域内Sobel > thresh的置[255, 255, 255]\n",
    "    res[region_thresholds] = [255, 255, 255]\n",
    "\n",
    "    cv2.imshow(\"image\", res)                  # 查看\n",
    "    cv2.waitKey(0)\n",
    "    \n",
    "    cv2.imwrite(save_path + \"img1_\" + str(i) + \".jpg\", res)\n"
   ]
  },
  {
   "cell_type": "code",
   "execution_count": 13,
   "metadata": {},
   "outputs": [],
   "source": [
    "# 晚上图片：每个视频37张\n",
    "file_path = '../pics/'\n",
    "save_path = '../save4/'           # 存储到save4文件夹\n",
    "for i in range(37):\n",
    "    imgName = file_path + \"img5_\" + str(i)\n",
    "    imgPath = imgName + \".jpg\"\n",
    "    \n",
    "    img = cv2.imread(imgPath, 1)                    # 这里是RGB图像\n",
    "    #cv2.imshow(\"image\", img)\n",
    "    #cv2.waitKey(0)\n",
    "    \n",
    "    [ysize, xsize, channel] = img.shape             # (368, 640, 3)\n",
    "    res = np.copy(img)                              # 以防后面要叠加，先复制\n",
    "    resGray = cv2.cvtColor(img,cv2.COLOR_RGB2GRAY)  # 转为灰度图\n",
    "    thresh = 10                                     # 要求Sobel梯度大于的值\n",
    "\n",
    "    # 区域顶点\n",
    "    left_bottom = [236, 368]\n",
    "    right_bottom = [351, 368]\n",
    "    left_top = [296, 240]\n",
    "    right_top = [315,240]\n",
    "\n",
    "    # 区域边界直线\n",
    "    fit_left = np.polyfit((left_bottom[0], left_top[0]), (left_bottom[1], left_top[1]), 1)\n",
    "    fit_right = np.polyfit((right_bottom[0], right_top[0]), (right_bottom[1], right_top[1]), 1)\n",
    "    fit_bottom = np.polyfit((left_bottom[0], right_bottom[0]), (left_bottom[1], right_bottom[1]), 1)\n",
    "    fit_top = np.polyfit((left_top[0], right_top[0]), (left_top[1], right_top[1]), 1)\n",
    "\n",
    "    # Sobel算子\n",
    "    cur = cv2.GaussianBlur(resGray, (3, 3), 1)\n",
    "    resGray = cv2.Canny(cur, 50, 200)\n",
    "\n",
    "    # 梯形区域Mask：截取梯形区域并要求对应\n",
    "    XX, YY = np.meshgrid(np.arange(0, xsize), np.arange(0, ysize))\n",
    "    region_thresholds = (YY > (XX * fit_left[0] + fit_left[1])) & \\\n",
    "                        (YY > (XX * fit_right[0] + fit_right[1])) & \\\n",
    "                        (YY < (XX * fit_bottom[0] + fit_bottom[1])) & \\\n",
    "                        (YY > (XX * fit_top[0] + fit_top[1])) & \\\n",
    "                        (resGray > thresh)\n",
    "\n",
    "    # 矩形区域内Sobel > thresh的置[255, 255, 255]\n",
    "    res[region_thresholds] = [255, 255, 255]\n",
    "\n",
    "    cv2.imshow(\"image\", res)                  # 查看\n",
    "    cv2.waitKey(0)\n",
    "    \n",
    "    cv2.imwrite(save_path + \"img5_\" + str(i) + \".jpg\", res)\n",
    "\n"
   ]
  },
  {
   "cell_type": "code",
   "execution_count": null,
   "metadata": {},
   "outputs": [],
   "source": []
  },
  {
   "cell_type": "code",
   "execution_count": null,
   "metadata": {},
   "outputs": [],
   "source": []
  },
  {
   "cell_type": "code",
   "execution_count": null,
   "metadata": {},
   "outputs": [],
   "source": []
  }
 ],
 "metadata": {
  "kernelspec": {
   "display_name": "Python 3",
   "language": "python",
   "name": "python3"
  },
  "language_info": {
   "codemirror_mode": {
    "name": "ipython",
    "version": 3
   },
   "file_extension": ".py",
   "mimetype": "text/x-python",
   "name": "python",
   "nbconvert_exporter": "python",
   "pygments_lexer": "ipython3",
   "version": "3.7.4"
  }
 },
 "nbformat": 4,
 "nbformat_minor": 2
}
