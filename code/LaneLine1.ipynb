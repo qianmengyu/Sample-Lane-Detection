{
 "cells": [
  {
   "cell_type": "markdown",
   "metadata": {},
   "source": [
    "# 车道线识别\n",
    "# \n",
    "# 版本：1\n",
    "# 使用阈值分割看看分割效果"
   ]
  },
  {
   "cell_type": "markdown",
   "metadata": {},
   "source": [
    "# 库函数"
   ]
  },
  {
   "cell_type": "code",
   "execution_count": 4,
   "metadata": {},
   "outputs": [],
   "source": [
    "import cv2\n",
    "import pandas as pd\n",
    "import numpy as np\n",
    "import matplotlib.pyplot as plt"
   ]
  },
  {
   "cell_type": "markdown",
   "metadata": {},
   "source": [
    "# 阈值分割"
   ]
  },
  {
   "cell_type": "code",
   "execution_count": 6,
   "metadata": {},
   "outputs": [],
   "source": [
    "# 图片：每个视频37张\n",
    "file_path = '../pics/'\n",
    "save_path = '../save1/'\n",
    "for i in range(37):\n",
    "    imgName = file_path + \"img1_\" + str(i)\n",
    "    imgPath = imgName + \".jpg\"\n",
    "    \n",
    "    img = cv2.imread(imgPath, 0)              # 这里是二值图像\n",
    "    cv2.imshow(\"image\", img)\n",
    "    cv2.waitKey(0)\n",
    "    \n",
    "    # Canny阈值分割\n",
    "    cur = cv2.GaussianBlur(img, (3, 3), 1)\n",
    "    res = cv2.Canny(cur, 50, 200)             # 太暗了，乘个系数\n",
    "    \n",
    "    cv2.imshow(\"image\", res)                  # 查看\n",
    "    cv2.waitKey(0)\n",
    "    \n",
    "    cv2.imwrite(save_path + \"img1_\" + str(i) + \".jpg\", res)\n"
   ]
  },
  {
   "cell_type": "code",
   "execution_count": 7,
   "metadata": {},
   "outputs": [],
   "source": [
    "# 晚上图片：每个视频37张\n",
    "file_path = '../pics/'\n",
    "save_path = '../save1/'\n",
    "for i in range(37):\n",
    "    imgName = file_path + \"img5_\" + str(i)\n",
    "    imgPath = imgName + \".jpg\"\n",
    "    \n",
    "    img = cv2.imread(imgPath, 0)              # 这里是二值图像\n",
    "    cv2.imshow(\"image\", img)\n",
    "    cv2.waitKey(0)\n",
    "    \n",
    "    # Canny阈值分割\n",
    "    cur = cv2.GaussianBlur(img, (3, 3), 1)\n",
    "    res = cv2.Canny(cur, 50, 200)             # 太暗了，乘个系数\n",
    "    \n",
    "    cv2.imshow(\"image\", res)                  # 查看\n",
    "    cv2.waitKey(0)\n",
    "    \n",
    "    cv2.imwrite(save_path + \"img5_\" + str(i) + \".jpg\", res)\n"
   ]
  },
  {
   "cell_type": "code",
   "execution_count": 8,
   "metadata": {},
   "outputs": [
    {
     "data": {
      "text/plain": [
       "(368, 640)"
      ]
     },
     "execution_count": 8,
     "metadata": {},
     "output_type": "execute_result"
    }
   ],
   "source": [
    "img.shape"
   ]
  },
  {
   "cell_type": "code",
   "execution_count": null,
   "metadata": {},
   "outputs": [],
   "source": []
  }
 ],
 "metadata": {
  "kernelspec": {
   "display_name": "Python 3",
   "language": "python",
   "name": "python3"
  },
  "language_info": {
   "codemirror_mode": {
    "name": "ipython",
    "version": 3
   },
   "file_extension": ".py",
   "mimetype": "text/x-python",
   "name": "python",
   "nbconvert_exporter": "python",
   "pygments_lexer": "ipython3",
   "version": "3.7.4"
  }
 },
 "nbformat": 4,
 "nbformat_minor": 2
}
