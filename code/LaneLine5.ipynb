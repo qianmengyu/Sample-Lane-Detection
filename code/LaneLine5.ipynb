{
 "cells": [
  {
   "cell_type": "markdown",
   "metadata": {},
   "source": [
    "# 车道线识别\n",
    "\n",
    "# 版本：5\n",
    "# 带霍夫变换的车道线检测：梯形区域+Sobel阈值分割"
   ]
  },
  {
   "cell_type": "markdown",
   "metadata": {},
   "source": [
    "# 库函数"
   ]
  },
  {
   "cell_type": "code",
   "execution_count": 1,
   "metadata": {},
   "outputs": [],
   "source": [
    "import cv2\n",
    "import pandas as pd\n",
    "import numpy as np\n",
    "import matplotlib.pyplot as plt"
   ]
  },
  {
   "cell_type": "markdown",
   "metadata": {},
   "source": [
    "# 带区域选择的阈值分割"
   ]
  },
  {
   "cell_type": "code",
   "execution_count": 3,
   "metadata": {},
   "outputs": [
    {
     "name": "stdout",
     "output_type": "stream",
     "text": [
      "None Lines!\n"
     ]
    },
    {
     "data": {
      "text/plain": [
       "-1"
      ]
     },
     "execution_count": 3,
     "metadata": {},
     "output_type": "execute_result"
    }
   ],
   "source": [
    "# 单张图像处理：为了后面好改\n",
    "img = cv2.imread('../pics/img5_16.jpg', 1)              # 这里是彩色图像\n",
    "\n",
    "[ysize, xsize, channel] = img.shape             # (368, 640, 3)\n",
    "res = np.copy(img)                              # 以防后面要叠加，先复制\n",
    "imgGray = cv2.cvtColor(img,cv2.COLOR_RGB2GRAY)  # 转为灰度图\n",
    "thresh = 10                                     # 要求Sobel梯度大于的值\n",
    "\n",
    "# 区域顶点\n",
    "# 应该区域往下点，就可以让max_line_gap大一点，好连成直线\n",
    "left_bottom = [236, 368]\n",
    "right_bottom = [351, 368]\n",
    "left_top = [296, 240]\n",
    "right_top = [315,240]\n",
    "\n",
    "# 区域边界直线\n",
    "fit_left = np.polyfit((left_bottom[0], left_top[0]), (left_bottom[1], left_top[1]), 1)\n",
    "fit_right = np.polyfit((right_bottom[0], right_top[0]), (right_bottom[1], right_top[1]), 1)\n",
    "fit_bottom = np.polyfit((left_bottom[0], right_bottom[0]), (left_bottom[1], right_bottom[1]), 1)\n",
    "fit_top = np.polyfit((left_top[0], right_top[0]), (left_top[1], right_top[1]), 1)\n",
    "\n",
    "# 梯形区域Mask：region_thresholds\n",
    "XX, YY = np.meshgrid(np.arange(0, xsize), np.arange(0, ysize))\n",
    "region_thresholds = (YY > (XX * fit_left[0] + fit_left[1])) & \\\n",
    "                    (YY > (XX * fit_right[0] + fit_right[1])) & \\\n",
    "                    (YY < (XX * fit_bottom[0] + fit_bottom[1])) & \\\n",
    "                    (YY > (XX * fit_top[0] + fit_top[1]))\n",
    "\n",
    "# Sobel算子\n",
    "cur = cv2.GaussianBlur(imgGray, (3, 3), 1)\n",
    "imgSobel = cv2.Canny(cur, 50, 200)\n",
    "imgSobel[~region_thresholds] = 0\n",
    "cv2.imshow(\"imgSobel\", imgSobel)                  # 查看\n",
    "cv2.waitKey(0)\n",
    "\n",
    "# Hough变换灰度图：阈值分割+区域选择后的imgSobel\n",
    "rho = 1\n",
    "theta = np.pi/180\n",
    "threshold = 1\n",
    "min_line_length = 10\n",
    "max_line_gap = 10\n",
    "\n",
    "lines = cv2.HoughLinesP(imgSobel, rho, theta, threshold, np.array([]),\n",
    "                            min_line_length, max_line_gap)\n",
    "\n",
    "# 绘制直线：彩色图res\n",
    "if lines is not None:\n",
    "    for line in lines:\n",
    "        for x1,y1,x2,y2 in line:\n",
    "            cv2.line(res,(x1, y1), (x2, y2), (0, 255, 0), 2)\n",
    "else :\n",
    "    print(\"None Lines!\")\n",
    "    \n",
    "cv2.imshow(\"image\", res)                  # 查看\n",
    "cv2.waitKey(0)"
   ]
  },
  {
   "cell_type": "code",
   "execution_count": null,
   "metadata": {},
   "outputs": [],
   "source": []
  },
  {
   "cell_type": "code",
   "execution_count": 14,
   "metadata": {},
   "outputs": [],
   "source": [
    "# 图片：每个视频37张\n",
    "file_path = '../pics/'\n",
    "save_path = '../save5/'                    # 存储到save5文件夹\n",
    "for i in range(37):\n",
    "    imgName = file_path + \"img1_\" + str(i)\n",
    "    imgPath = imgName + \".jpg\"\n",
    "    \n",
    "    img = cv2.imread(imgPath, 1)                    # 这里是RGB图像\n",
    "\n",
    "    [ysize, xsize, channel] = img.shape             # (368, 640, 3)\n",
    "    res = np.copy(img)                              # 以防后面要叠加，先复制\n",
    "    imgGray = cv2.cvtColor(img,cv2.COLOR_RGB2GRAY)  # 转为灰度图\n",
    "    thresh = 10                                     # 要求Sobel梯度大于的值\n",
    "\n",
    "    # 区域顶点\n",
    "    # 应该区域往下点，就可以让max_line_gap大一点，好连成直线\n",
    "    left_bottom = [236, 368]\n",
    "    right_bottom = [351, 368]\n",
    "    left_top = [296, 240]\n",
    "    right_top = [315,240]\n",
    "\n",
    "    # 区域边界直线\n",
    "    fit_left = np.polyfit((left_bottom[0], left_top[0]), (left_bottom[1], left_top[1]), 1)\n",
    "    fit_right = np.polyfit((right_bottom[0], right_top[0]), (right_bottom[1], right_top[1]), 1)\n",
    "    fit_bottom = np.polyfit((left_bottom[0], right_bottom[0]), (left_bottom[1], right_bottom[1]), 1)\n",
    "    fit_top = np.polyfit((left_top[0], right_top[0]), (left_top[1], right_top[1]), 1)\n",
    "\n",
    "    # 梯形区域Mask：region_thresholds\n",
    "    XX, YY = np.meshgrid(np.arange(0, xsize), np.arange(0, ysize))\n",
    "    region_thresholds = (YY > (XX * fit_left[0] + fit_left[1])) & \\\n",
    "                        (YY > (XX * fit_right[0] + fit_right[1])) & \\\n",
    "                        (YY < (XX * fit_bottom[0] + fit_bottom[1])) & \\\n",
    "                        (YY > (XX * fit_top[0] + fit_top[1]))\n",
    "\n",
    "    # Sobel算子\n",
    "    cur = cv2.GaussianBlur(imgGray, (3, 3), 1)\n",
    "    imgSobel = cv2.Canny(cur, 50, 200)\n",
    "    imgSobel[~region_thresholds] = 0\n",
    "    \n",
    "    cv2.imshow(\"imgSobel\", imgSobel)                  # 查看\n",
    "    cv2.waitKey(0)\n",
    "\n",
    "    # Hough变换灰度图：阈值分割+区域选择后的imgSobel\n",
    "    rho = 1\n",
    "    theta = np.pi/180\n",
    "    threshold = 1\n",
    "    min_line_length = 10\n",
    "    max_line_gap = 10\n",
    "\n",
    "    lines = cv2.HoughLinesP(imgSobel, rho, theta, threshold, np.array([]),\n",
    "                                min_line_length, max_line_gap)\n",
    "\n",
    "    # 绘制直线：彩色图res\n",
    "    if lines is not None:                   # 可能没有直线，就不处理\n",
    "        for line in lines:\n",
    "            for x1,y1,x2,y2 in line:\n",
    "                cv2.line(res,(x1, y1), (x2, y2), (0, 255, 0), 2)\n",
    "    else :\n",
    "        print(\"None Lines!\")\n",
    "        \n",
    "    cv2.imshow(\"res\", res)                  # 查看\n",
    "    cv2.waitKey(0)\n",
    "    \n",
    "    cv2.imwrite(save_path + \"img1_\" + str(i) + \".jpg\", res)\n"
   ]
  },
  {
   "cell_type": "code",
   "execution_count": 4,
   "metadata": {},
   "outputs": [
    {
     "name": "stdout",
     "output_type": "stream",
     "text": [
      "None Lines!\n",
      "None Lines!\n",
      "None Lines!\n"
     ]
    }
   ],
   "source": [
    "# 晚上图片：每个视频37张\n",
    "file_path = '../pics/'\n",
    "save_path = '../save5/'           # 存储到save5文件夹\n",
    "for i in range(37):\n",
    "    imgName = file_path + \"img5_\" + str(i)\n",
    "    imgPath = imgName + \".jpg\"\n",
    "    \n",
    "    img = cv2.imread(imgPath, 1)                    # 这里是RGB图像\n",
    "    \n",
    "    [ysize, xsize, channel] = img.shape             # (368, 640, 3)\n",
    "    res = np.copy(img)                              # 以防后面要叠加，先复制\n",
    "    imgGray = cv2.cvtColor(img,cv2.COLOR_RGB2GRAY)  # 转为灰度图\n",
    "    thresh = 10                                     # 要求Sobel梯度大于的值\n",
    "\n",
    "    # 区域顶点\n",
    "    # 应该区域往下点，就可以让max_line_gap大一点，好连成直线\n",
    "    left_bottom = [236, 368]\n",
    "    right_bottom = [351, 368]\n",
    "    left_top = [296, 240]\n",
    "    right_top = [315,240]\n",
    "\n",
    "    # 区域边界直线\n",
    "    fit_left = np.polyfit((left_bottom[0], left_top[0]), (left_bottom[1], left_top[1]), 1)\n",
    "    fit_right = np.polyfit((right_bottom[0], right_top[0]), (right_bottom[1], right_top[1]), 1)\n",
    "    fit_bottom = np.polyfit((left_bottom[0], right_bottom[0]), (left_bottom[1], right_bottom[1]), 1)\n",
    "    fit_top = np.polyfit((left_top[0], right_top[0]), (left_top[1], right_top[1]), 1)\n",
    "\n",
    "    # 梯形区域Mask：region_thresholds\n",
    "    XX, YY = np.meshgrid(np.arange(0, xsize), np.arange(0, ysize))\n",
    "    region_thresholds = (YY > (XX * fit_left[0] + fit_left[1])) & \\\n",
    "                        (YY > (XX * fit_right[0] + fit_right[1])) & \\\n",
    "                        (YY < (XX * fit_bottom[0] + fit_bottom[1])) & \\\n",
    "                        (YY > (XX * fit_top[0] + fit_top[1]))\n",
    "\n",
    "    # Sobel算子\n",
    "    cur = cv2.GaussianBlur(imgGray, (3, 3), 1)\n",
    "    imgSobel = cv2.Canny(cur, 50, 200)\n",
    "    imgSobel[~region_thresholds] = 0\n",
    "    \n",
    "    # cv2.imshow(\"imgSobel\", imgSobel)                  # 查看\n",
    "    # cv2.waitKey(0)\n",
    "\n",
    "    # Hough变换灰度图：阈值分割+区域选择后的imgSobel\n",
    "    rho = 1\n",
    "    theta = np.pi/180\n",
    "    threshold = 1\n",
    "    min_line_length = 10\n",
    "    max_line_gap = 10\n",
    "\n",
    "    lines = cv2.HoughLinesP(imgSobel, rho, theta, threshold, np.array([]),\n",
    "                                min_line_length, max_line_gap)\n",
    "\n",
    "    # 绘制直线：彩色图res\n",
    "    if lines is not None:                   # 可能没有直线，就不处理\n",
    "        for line in lines:\n",
    "            for x1,y1,x2,y2 in line:\n",
    "                cv2.line(res,(x1, y1), (x2, y2), (0, 255, 0), 2)\n",
    "    else :\n",
    "        print(\"None Lines!\")\n",
    "    \n",
    "    cv2.imshow(\"res\", res)                  # 查看\n",
    "    cv2.waitKey(0)\n",
    "    \n",
    "    cv2.imwrite(save_path + \"img5_\" + str(i) + \".jpg\", res)"
   ]
  },
  {
   "cell_type": "code",
   "execution_count": null,
   "metadata": {},
   "outputs": [],
   "source": []
  },
  {
   "cell_type": "code",
   "execution_count": null,
   "metadata": {},
   "outputs": [],
   "source": []
  },
  {
   "cell_type": "code",
   "execution_count": null,
   "metadata": {},
   "outputs": [],
   "source": []
  }
 ],
 "metadata": {
  "kernelspec": {
   "display_name": "Python 3",
   "language": "python",
   "name": "python3"
  },
  "language_info": {
   "codemirror_mode": {
    "name": "ipython",
    "version": 3
   },
   "file_extension": ".py",
   "mimetype": "text/x-python",
   "name": "python",
   "nbconvert_exporter": "python",
   "pygments_lexer": "ipython3",
   "version": "3.7.4"
  }
 },
 "nbformat": 4,
 "nbformat_minor": 2
}
