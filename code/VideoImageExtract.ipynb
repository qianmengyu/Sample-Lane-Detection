{
 "cells": [
  {
   "cell_type": "markdown",
   "metadata": {},
   "source": [
    "# 视频处理初步\n",
    "# 将视频抽帧为图片，方便后续处理\n",
    "# 2022/12/15"
   ]
  },
  {
   "cell_type": "code",
   "execution_count": 4,
   "metadata": {},
   "outputs": [],
   "source": [
    "import cv2\n",
    "import pandas as pd\n",
    "import numpy as np\n",
    "import matplotlib.pyplot as plt"
   ]
  },
  {
   "cell_type": "code",
   "execution_count": 6,
   "metadata": {},
   "outputs": [],
   "source": [
    "file_path = '../data/'\n",
    "#获得视频的格式\n",
    "videoCapture = cv2.VideoCapture(file_path + '1.mp4')\n",
    "\n",
    "#获得码率及尺寸\n",
    "fps = videoCapture.get(cv2.CAP_PROP_FPS)\n",
    "size = (int(videoCapture.get(cv2.CAP_PROP_FRAME_WIDTH)), \n",
    "        int(videoCapture.get(cv2.CAP_PROP_FRAME_HEIGHT)))\n",
    "fNUMS = videoCapture.get(cv2.CAP_PROP_FRAME_COUNT)\n",
    "\n",
    "# 读帧\n",
    "success, frame = videoCapture.read()\n",
    "flag = 0\n",
    "while success :\n",
    "    cv2.imshow('windows', frame) #显示\n",
    "    # 每1000张保存一张图像\n",
    "    if(flag % 100 == 0):\n",
    "        cv2.imwrite(file_path + \"pics/img1_\" + str(int(flag / 100)) + \".jpg\", frame)\n",
    "    flag += 1\n",
    "    success, frame = videoCapture.read() #获取下一帧\n",
    "    \n",
    "videoCapture.release()"
   ]
  }
 ],
 "metadata": {
  "kernelspec": {
   "display_name": "Python 3",
   "language": "python",
   "name": "python3"
  },
  "language_info": {
   "codemirror_mode": {
    "name": "ipython",
    "version": 3
   },
   "file_extension": ".py",
   "mimetype": "text/x-python",
   "name": "python",
   "nbconvert_exporter": "python",
   "pygments_lexer": "ipython3",
   "version": "3.7.4"
  }
 },
 "nbformat": 4,
 "nbformat_minor": 2
}
