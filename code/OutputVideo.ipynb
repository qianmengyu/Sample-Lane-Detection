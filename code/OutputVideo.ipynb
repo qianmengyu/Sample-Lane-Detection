{
 "cells": [
  {
   "cell_type": "markdown",
   "metadata": {},
   "source": [
    "# 视频处理后创建新视频"
   ]
  },
  {
   "cell_type": "code",
   "execution_count": 4,
   "metadata": {},
   "outputs": [],
   "source": [
    "import cv2\n",
    "import pandas as pd\n",
    "import numpy as np\n",
    "import matplotlib.pyplot as plt"
   ]
  },
  {
   "cell_type": "code",
   "execution_count": 5,
   "metadata": {},
   "outputs": [],
   "source": [
    "# 检测并绘制车道线\n",
    "def laneDetect(img) :\n",
    "    [ysize, xsize, channel] = img.shape             # (368, 640, 3)\n",
    "    res = np.copy(img)                              # 以防后面要叠加，先复制\n",
    "    imgGray = cv2.cvtColor(img,cv2.COLOR_RGB2GRAY)  # 转为灰度图\n",
    "    thresh = 10                                     # 要求Sobel梯度大于的值\n",
    "\n",
    "    # 区域顶点\n",
    "    # 应该区域往下点，就可以让max_line_gap大一点，好连成直线\n",
    "    left_bottom = [236, 368]\n",
    "    right_bottom = [351, 368]\n",
    "    left_top = [286, 260]\n",
    "    right_top = [325,260]\n",
    "\n",
    "    # 区域边界直线\n",
    "    fit_left = np.polyfit((left_bottom[0], left_top[0]), (left_bottom[1], left_top[1]), 1)\n",
    "    fit_right = np.polyfit((right_bottom[0], right_top[0]), (right_bottom[1], right_top[1]), 1)\n",
    "    fit_bottom = np.polyfit((left_bottom[0], right_bottom[0]), (left_bottom[1], right_bottom[1]), 1)\n",
    "    fit_top = np.polyfit((left_top[0], right_top[0]), (left_top[1], right_top[1]), 1)\n",
    "\n",
    "    # 梯形区域Mask：region_thresholds\n",
    "    XX, YY = np.meshgrid(np.arange(0, xsize), np.arange(0, ysize))\n",
    "    region_thresholds = (YY > (XX * fit_left[0] + fit_left[1])) & \\\n",
    "                        (YY > (XX * fit_right[0] + fit_right[1])) & \\\n",
    "                        (YY < (XX * fit_bottom[0] + fit_bottom[1])) & \\\n",
    "                        (YY > (XX * fit_top[0] + fit_top[1]))\n",
    "\n",
    "    # Sobel算子\n",
    "    cur = cv2.GaussianBlur(imgGray, (3, 3), 1)\n",
    "    imgSobel = cv2.Canny(cur, 50, 200)\n",
    "    imgSobel[~region_thresholds] = 0\n",
    "    # cv2.imshow(\"imgSobel\", imgSobel)                  # 查看\n",
    "    # cv2.waitKey(0)\n",
    "\n",
    "    # Hough变换灰度图：阈值分割+区域选择后的imgSobel\n",
    "    rho = 1\n",
    "    theta = np.pi/180\n",
    "    threshold = 10\n",
    "    min_line_length = 10\n",
    "    max_line_gap = 10\n",
    "\n",
    "    lines = cv2.HoughLinesP(imgSobel, rho, theta, threshold, np.array([]),\n",
    "                                min_line_length, max_line_gap)\n",
    "\n",
    "    # 绘制直线：彩色图res\n",
    "    if lines is not None:\n",
    "        for line in lines:\n",
    "            for x1,y1,x2,y2 in line:\n",
    "                cv2.line(res,(x1, y1), (x2, y2), (0, 255, 0), 2)\n",
    "    else :\n",
    "        print(\"None Lines!\")\n",
    "    \n",
    "    return res"
   ]
  },
  {
   "cell_type": "code",
   "execution_count": 6,
   "metadata": {},
   "outputs": [
    {
     "data": {
      "text/plain": [
       "-1"
      ]
     },
     "execution_count": 6,
     "metadata": {},
     "output_type": "execute_result"
    }
   ],
   "source": [
    "img = cv2.imread('../pics/img1_10.jpg', 1)              # 这里是彩色图像\n",
    "res = laneDetect(img)\n",
    "cv2.imshow(\"image\", res)                  # 查看\n",
    "cv2.waitKey(0)"
   ]
  },
  {
   "cell_type": "code",
   "execution_count": 14,
   "metadata": {},
   "outputs": [],
   "source": [
    "# 总共3785张图片，选取40s作为问题一案例\n",
    "# 视频1的l = 0，视频5的l = 420\n",
    "l = 420\n",
    "r = l + 840\n",
    "\n",
    "file_path = '../data/'\n",
    "video_name = '5.mp4'\n",
    "# 读取原视频\n",
    "videoCapture = cv2.VideoCapture(file_path + video_name)\n",
    "\n",
    "#获得码率及尺寸\n",
    "fps = videoCapture.get(cv2.CAP_PROP_FPS)\n",
    "size = (int(videoCapture.get(cv2.CAP_PROP_FRAME_WIDTH)), \n",
    "        int(videoCapture.get(cv2.CAP_PROP_FRAME_HEIGHT)))\n",
    "fNUMS = videoCapture.get(cv2.CAP_PROP_FRAME_COUNT)\n",
    "\n",
    "fourcc = cv2.VideoWriter_fourcc(*'MP4V')              # mp4格式保存\n",
    "# 按照设置的格式来out输出\n",
    "out = cv2.VideoWriter(file_path + 'out1/out' + video_name,fourcc ,fps, size)\n",
    "\n",
    "# 读帧处理并保存\n",
    "success, frame = videoCapture.read()\n",
    "flag = 0\n",
    "while success :\n",
    "    #cv2.imshow('windows', frame)\n",
    "    # 处理\n",
    "    if(flag >= l and flag <= r) :\n",
    "        res = laneDetect(frame)\n",
    "        \n",
    "        # 保存\n",
    "        out.write(res)\n",
    "    flag = flag + 1\n",
    "   \n",
    "    # 获取下一帧\n",
    "    success, frame = videoCapture.read()\n",
    "\n",
    "# 释放资源\n",
    "videoCapture.release()\n",
    "out.release()\n",
    "\n",
    "# 关闭窗口\n",
    "cv2.destroyAllWindows()"
   ]
  },
  {
   "cell_type": "code",
   "execution_count": null,
   "metadata": {},
   "outputs": [],
   "source": []
  }
 ],
 "metadata": {
  "kernelspec": {
   "display_name": "Python 3",
   "language": "python",
   "name": "python3"
  },
  "language_info": {
   "codemirror_mode": {
    "name": "ipython",
    "version": 3
   },
   "file_extension": ".py",
   "mimetype": "text/x-python",
   "name": "python",
   "nbconvert_exporter": "python",
   "pygments_lexer": "ipython3",
   "version": "3.7.4"
  }
 },
 "nbformat": 4,
 "nbformat_minor": 2
}
